{
 "cells": [
  {
   "cell_type": "code",
   "execution_count": null,
   "id": "c8c7a4c6",
   "metadata": {},
   "outputs": [],
   "source": [
    "# Q1 Make a Calculator using Python with addition, subtraction, multiplication, division and power.\n",
    "\n",
    "def addition(a,b):\n",
    "    return a+b\n",
    "def subtraction(a,b):\n",
    "    return a-b\n",
    "def multiplication(a,b):\n",
    "    return a*b\n",
    "def division(a,b):\n",
    "    return a/b\n",
    "def power(a,b):\n",
    "    return pow(a,b)\n",
    "\n",
    "\n",
    "print(\"Select an operation\")\n",
    "print(\"1. Addition\")\n",
    "print(\"2. Subtraction\")\n",
    "print(\"3. Multiplication\")\n",
    "print(\"4. Division\")\n",
    "print(\"5. Power\")\n",
    "\n",
    "while True:\n",
    "    select=input(\"Select desired operation (1,2,3,4,5)\")\n",
    "    if select in ('1','2','3','4'):\n",
    "        num1 = float(input(\"Enter first number: \"))\n",
    "        num2 = float(input(\"Enter second number: \"))\n",
    "\n",
    "        if select=='1':\n",
    "            print(num1, \"+\", num2, \"=\", addition(num1,num2))\n",
    "        elif select=='2':\n",
    "            print(num1, \"-\", num2, \"=\", subtraction(num1,num2))\n",
    "        elif select=='3':\n",
    "            print(num1, \"*\", num2, \"=\", multiplication(num1,num2))\n",
    "        elif select=='4':\n",
    "            print(num1, \"/\", num2, \"=\", division(num1,num2))\n",
    "\n",
    "        next_calculation = input(\"Let's do next calculation? (yes/no): \")\n",
    "        if next_calculation == \"no\":\n",
    "          break\n",
    "\n",
    "        \n",
    "    elif select in ('5'):\n",
    "        base=float(input(\"Enter the number \"))\n",
    "        exp=float(input(\"Enter the exponent value\"))\n",
    "      \n",
    "        print(base, \"raise to the poower\", exp, \"is :\", power(base,exp))\n",
    "        next_calculation = input(\"Let's do next calculation? (yes/no): \")\n",
    "\n",
    "        if next_calculation == \"no\":\n",
    "\n",
    "            break\n",
    "\n",
    "    else:\n",
    "        print(\"enter valid input\") \n"
   ]
  },
  {
   "cell_type": "code",
   "execution_count": 1,
   "id": "b2607b63",
   "metadata": {},
   "outputs": [
    {
     "name": "stdout",
     "output_type": "stream",
     "text": [
      "2\n",
      "4\n",
      "5\n"
     ]
    }
   ],
   "source": [
    "# Q2 write a program to check if there is a numerical value in list using for loop\n",
    "list = [\"apple\",2,\"banana\",4,5,\"tin\"]\n",
    "for x in list:\n",
    "    if type(x)==int:\n",
    "        print(x)\n"
   ]
  },
  {
   "cell_type": "code",
   "execution_count": 2,
   "id": "4361550a",
   "metadata": {},
   "outputs": [
    {
     "name": "stdout",
     "output_type": "stream",
     "text": [
      "{'firstName': 'Hamdan', 'lastName': 'Alam'}\n",
      "{'firstName': 'Hamdan', 'lastName': 'Alam', 'age': 23}\n"
     ]
    }
   ],
   "source": [
    "# Q3 Write a python Script to add a key to dictionary\n",
    "myDictionary={\"firstName\":\"Hamdan\",\"lastName\":\"Alam\"}\n",
    "print(myDictionary)\n",
    "myDictionary.update({\"age\":23})\n",
    "print(myDictionary)\n"
   ]
  },
  {
   "cell_type": "code",
   "execution_count": 3,
   "id": "01a92bbf",
   "metadata": {},
   "outputs": [
    {
     "name": "stdout",
     "output_type": "stream",
     "text": [
      "108\n"
     ]
    }
   ],
   "source": [
    "# Q4 Write a python program to sum all the numeric items in a dictionary\n",
    "mydict={'data1':12,'data2':21,'data3':32,'data4':43}\n",
    "print(sum(mydict.values()))"
   ]
  },
  {
   "cell_type": "code",
   "execution_count": 4,
   "id": "3648deae",
   "metadata": {},
   "outputs": [
    {
     "name": "stdout",
     "output_type": "stream",
     "text": [
      "[23, 2, 4]\n"
     ]
    }
   ],
   "source": [
    "# Q5 Write a program to identify duplicate values in list\n",
    "test=[1,9,23,2,43,23,4,3,2,4];\n",
    "dup=[]\n",
    "for i in range(0,len(test)):\n",
    "    for j in range(i+1,len(test)):\n",
    "        if(test[i]==test[j]):\n",
    "            \n",
    "            dup.append(test[j])\n",
    "        \n",
    "print(dup)"
   ]
  },
  {
   "cell_type": "code",
   "execution_count": 5,
   "id": "de363bf6",
   "metadata": {},
   "outputs": [
    {
     "name": "stdout",
     "output_type": "stream",
     "text": [
      "Enter key to check: 4\n",
      "The given key is present and value is:  R\n"
     ]
    }
   ],
   "source": [
    "# Q6 Write a python program to check if a given key is already exists in a dictionary\n",
    "\n",
    "alpha={1:'Q',2:'W',3:'E',4:'R',5:'T',6:'Y'}\n",
    "key=int(input(\"Enter key to check: \"))\n",
    "if key in alpha.keys():\n",
    "    print(\"The given key is present and value is: \", alpha[key])\n",
    "else:\n",
    "    print(key, \"is not present in dictionary\")\n"
   ]
  },
  {
   "cell_type": "code",
   "execution_count": null,
   "id": "1a808321",
   "metadata": {},
   "outputs": [],
   "source": []
  }
 ],
 "metadata": {
  "kernelspec": {
   "display_name": "Python 3",
   "language": "python",
   "name": "python3"
  },
  "language_info": {
   "codemirror_mode": {
    "name": "ipython",
    "version": 3
   },
   "file_extension": ".py",
   "mimetype": "text/x-python",
   "name": "python",
   "nbconvert_exporter": "python",
   "pygments_lexer": "ipython3",
   "version": "3.8.8"
  }
 },
 "nbformat": 4,
 "nbformat_minor": 5
}
